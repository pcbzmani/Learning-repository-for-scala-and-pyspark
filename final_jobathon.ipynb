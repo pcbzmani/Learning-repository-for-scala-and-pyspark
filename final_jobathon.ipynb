{
  "nbformat": 4,
  "nbformat_minor": 0,
  "metadata": {
    "colab": {
      "provenance": [],
      "collapsed_sections": [],
      "authorship_tag": "ABX9TyOr2eXW3Tdj+I2qCl8j2DIM",
      "include_colab_link": true
    },
    "kernelspec": {
      "name": "python3",
      "display_name": "Python 3"
    },
    "language_info": {
      "name": "python"
    }
  },
  "cells": [
    {
      "cell_type": "markdown",
      "metadata": {
        "id": "view-in-github",
        "colab_type": "text"
      },
      "source": [
        "<a href=\"https://colab.research.google.com/github/pcbzmani/Learning-repository-for-scala-and-pyspark/blob/main/final_jobathon.ipynb\" target=\"_parent\"><img src=\"https://colab.research.google.com/assets/colab-badge.svg\" alt=\"Open In Colab\"/></a>"
      ]
    },
    {
      "cell_type": "code",
      "execution_count": 1,
      "metadata": {
        "colab": {
          "base_uri": "https://localhost:8080/"
        },
        "id": "quDZixQL-tU8",
        "outputId": "18d06a33-a2d1-44be-c2cc-341de710e57b"
      },
      "outputs": [
        {
          "output_type": "stream",
          "name": "stdout",
          "text": [
            "Looking in indexes: https://pypi.org/simple, https://us-python.pkg.dev/colab-wheels/public/simple/\n",
            "Collecting pyspark\n",
            "  Downloading pyspark-3.3.0.tar.gz (281.3 MB)\n",
            "\u001b[K     |████████████████████████████████| 281.3 MB 56 kB/s \n",
            "\u001b[?25hCollecting py4j==0.10.9.5\n",
            "  Downloading py4j-0.10.9.5-py2.py3-none-any.whl (199 kB)\n",
            "\u001b[K     |████████████████████████████████| 199 kB 74.8 MB/s \n",
            "\u001b[?25hBuilding wheels for collected packages: pyspark\n",
            "  Building wheel for pyspark (setup.py) ... \u001b[?25l\u001b[?25hdone\n",
            "  Created wheel for pyspark: filename=pyspark-3.3.0-py2.py3-none-any.whl size=281764026 sha256=7831b139028ab7e1813baecf470ed407e62c13856b27ddcfd610d818c8626042\n",
            "  Stored in directory: /root/.cache/pip/wheels/7a/8e/1b/f73a52650d2e5f337708d9f6a1750d451a7349a867f928b885\n",
            "Successfully built pyspark\n",
            "Installing collected packages: py4j, pyspark\n",
            "Successfully installed py4j-0.10.9.5 pyspark-3.3.0\n"
          ]
        }
      ],
      "source": [
        "!pip install pyspark"
      ]
    },
    {
      "cell_type": "code",
      "source": [
        "from google.colab import drive\n",
        "drive.mount('/content/drive')"
      ],
      "metadata": {
        "colab": {
          "base_uri": "https://localhost:8080/"
        },
        "id": "gMPMvjMI-vqG",
        "outputId": "5a039238-726f-4027-8982-1b128328491f"
      },
      "execution_count": 2,
      "outputs": [
        {
          "output_type": "stream",
          "name": "stdout",
          "text": [
            "Mounted at /content/drive\n"
          ]
        }
      ]
    },
    {
      "cell_type": "code",
      "source": [
        "from pyspark.sql import SparkSession\n",
        "spark = SparkSession.builder\\\n",
        "        .master(\"local\")\\\n",
        "        .appName(\"jobathon\")\\\n",
        "        .config('spark.ui.port', '4040')\\\n",
        "        .getOrCreate()"
      ],
      "metadata": {
        "id": "_YgHhsmC-xea"
      },
      "execution_count": 3,
      "outputs": []
    },
    {
      "cell_type": "code",
      "source": [
        "# Import libraries\n",
        "import pyspark.sql.functions as F\n",
        "from pyspark.sql.window import Window\n",
        "from pyspark.sql.types import StringType\n",
        "\n",
        "#Function input - spark object, click data path, resolved data path\n",
        "# Function output - final spark dataframe# \n",
        "def sample_function(spark, s3_clickstream_path, s3_login_path):\n",
        "  df_clickstream =  spark.read.format(\"json\").load(s3_clickstream_path)\n",
        "  user_mapping =  spark.read.format(\"csv\").option(\"header\",True).load(s3_login_path)\n",
        "\n",
        "# Join clickstream with user mapping  \n",
        "  df = df_clickstream.join(\n",
        "    user_mapping,\n",
        "    'session_id',\n",
        "    'left_outer'\n",
        "  ) \n",
        "\n",
        "# Derive Current date, Page URL and Logged in\n",
        "  df = df.withColumn('client_page_url', F.col('client_side_data').getField(\"current_page_url\"))\\\n",
        "       .withColumn('current_date',F.split('event_date_time',' ')[0])\\\n",
        "       .drop('client_side_data','login_date_time')\n",
        "\n",
        "# Derive Click count and Page count for registered users\n",
        "  df_grp = df.groupBy('current_date','browser_id','user_id')\\\n",
        "           .pivot('event_type').agg({'event_type':'count'})\n",
        "\n",
        "\n",
        "# Join the event grouped DF with Original df  \n",
        "  df = df.join(\n",
        "    df_grp,\n",
        "    [df['user_id'].eqNullSafe(df_grp['user_id']),df['current_date']==df_grp['current_date'],df['browser_id']==df_grp['browser_id']],\n",
        "    'left_outer'\n",
        "  ).drop(df_grp['user_id'])\\\n",
        "   .drop(df_grp['browser_id'])\\\n",
        "   .drop(df_grp['current_date'])\n",
        "  \n",
        "#Window Spec\n",
        "  window_spec = Window\\\n",
        "              .partitionBy('current_date','browser_id','user_id')\\\n",
        "              .orderBy(F.col('event_date_time').asc())\n",
        "  \n",
        "  \n",
        "  df = df.withColumn('logged_in',F.when(( (F.col('user_id').isNotNull()) & (F.col('pageload') > 0 )),F.lit(1))\\\n",
        "                               .otherwise(F.lit(0)))\\\n",
        "        .withColumn('row_number',F.row_number().over(window_spec))\\\n",
        "        .withColumn('number_of_pageloads',F.coalesce(F.col('pageload'),F.lit(0) )) \\\n",
        "        .withColumn('number_of_clicks',F.coalesce(F.col('click'),F.lit(0) ))\\\n",
        "        .filter('row_number == 1')\\\n",
        "        .select('current_date','browser_id','user_id','logged_in',F.col('client_page_url').alias('first_url'),\\\n",
        "                F.col('number_of_clicks'),\\\n",
        "              F.col('number_of_pageloads')) \n",
        "              \n",
        "  return df"
      ],
      "metadata": {
        "id": "ypLTR3Pq-0ZV"
      },
      "execution_count": 28,
      "outputs": []
    },
    {
      "cell_type": "code",
      "source": [
        "result_df = sample_function(spark,'/content/drive/MyDrive/JobaThon_Sep_2022/jobathon_click_data.json','/content/drive/MyDrive/JobaThon_Sep_2022/jobathon_login_data.csv')"
      ],
      "metadata": {
        "id": "vDOswZJG-22t"
      },
      "execution_count": 30,
      "outputs": []
    },
    {
      "cell_type": "code",
      "source": [
        "result_df.printSchema()"
      ],
      "metadata": {
        "colab": {
          "base_uri": "https://localhost:8080/"
        },
        "id": "m0uqRMzwn8Rn",
        "outputId": "ba126460-1815-4012-a4c5-160cb1639498"
      },
      "execution_count": 31,
      "outputs": [
        {
          "output_type": "stream",
          "name": "stdout",
          "text": [
            "root\n",
            " |-- current_date: string (nullable = true)\n",
            " |-- browser_id: string (nullable = true)\n",
            " |-- user_id: string (nullable = true)\n",
            " |-- logged_in: integer (nullable = false)\n",
            " |-- first_url: string (nullable = true)\n",
            " |-- number_of_clicks: long (nullable = false)\n",
            " |-- number_of_pageloads: long (nullable = false)\n",
            "\n"
          ]
        }
      ]
    },
    {
      "cell_type": "code",
      "source": [
        "result_df.summary().show()"
      ],
      "metadata": {
        "colab": {
          "base_uri": "https://localhost:8080/"
        },
        "id": "WSAGZeisdN1Q",
        "outputId": "853e607b-92d2-4d4d-bfb6-22d0483c6b7a"
      },
      "execution_count": 32,
      "outputs": [
        {
          "output_type": "stream",
          "name": "stdout",
          "text": [
            "+-------+------------+--------------------+-------------+-------------------+--------------------+------------------+-------------------+\n",
            "|summary|current_date|          browser_id|      user_id|          logged_in|           first_url|  number_of_clicks|number_of_pageloads|\n",
            "+-------+------------+--------------------+-------------+-------------------+--------------------+------------------+-------------------+\n",
            "|  count|      305456|              305456|        14393|             305456|              305456|            305456|             305456|\n",
            "|   mean|        null|                null|     Infinity|0.03377573202032371|                null|1.9550573568697291|  0.860035487926248|\n",
            "| stddev|        null|                null|          NaN|0.18065170574120537|                null| 6.626274849572005| 1.1758805155597627|\n",
            "|    min|  2022-07-31|0009xtvcUjrhxlw2F...|   1000000406|                  0|https://www.gosho...|                 0|                  0|\n",
            "|    25%|        null|                null| 4.00000513E8|                  0|                null|                 0|                  0|\n",
            "|    50%|        null|                null| 1.60000055E9|                  0|                null|                 0|                  1|\n",
            "|    75%|        null|                null|2.800000498E9|                  0|                null|                 2|                  1|\n",
            "|    max|  2022-08-11|zzzoSMvnqvu1TeIjS...|    E00001CC1|                  1|https://www.gosho...|               866|                319|\n",
            "+-------+------------+--------------------+-------------+-------------------+--------------------+------------------+-------------------+\n",
            "\n"
          ]
        }
      ]
    },
    {
      "cell_type": "code",
      "source": [
        "result_df.show(truncate=False)"
      ],
      "metadata": {
        "colab": {
          "base_uri": "https://localhost:8080/"
        },
        "id": "abIbAoiOOicI",
        "outputId": "bd84d59a-7771-4aae-b5d2-ebe247364caa"
      },
      "execution_count": 33,
      "outputs": [
        {
          "output_type": "stream",
          "name": "stdout",
          "text": [
            "+------------+--------------------------------+-------+---------+-----------------------------------------------------------------------------------------+----------------+-------------------+\n",
            "|current_date|browser_id                      |user_id|logged_in|first_url                                                                                |number_of_clicks|number_of_pageloads|\n",
            "+------------+--------------------------------+-------+---------+-----------------------------------------------------------------------------------------+----------------+-------------------+\n",
            "|2022-07-31  |00AFmUbwoEEAkn3x7QlmqWmEXeYAArGC|null   |0        |https://www.goshop.com/fZfjGgJF2EdN1hdLwCCbFmpBO                                         |1               |0                  |\n",
            "|2022-07-31  |00LdZ46WwvtEzQXaosKx4IdAIdE3TJmB|null   |0        |https://www.goshop.com/6xgsGR1xsXJNc8mZOlH1lk1a                                          |0               |1                  |\n",
            "|2022-07-31  |00ZYtPbQ1OlhEjGf4qUHld54l09fBT9g|null   |0        |https://www.goshop.com/VrjMNWo0jb8Y7Efx95H                                               |4               |0                  |\n",
            "|2022-07-31  |00bFaQuYNJ7R0jL8P6BLVNub3m8RuMPY|null   |0        |https://www.goshop.com/PK6uQZOxIO202Jy0Trro1u                                            |0               |1                  |\n",
            "|2022-07-31  |00hshac57vif8TjuGwfa4gSSnogXPA17|null   |0        |https://www.goshop.com/ulfxyErZHe9TdbbUej0A5xePf                                         |21              |0                  |\n",
            "|2022-07-31  |01CGDxjT7Mdk9KjGXiQTtgztsODH6DGf|null   |0        |https://www.goshop.com/m5Skbq7ocJgFCP8v9phOUoETGs                                        |1               |1                  |\n",
            "|2022-07-31  |01LQCAEwNlHeDnW3obIpUDTIjqBwhdci|null   |0        |https://www.goshop.com/iNVYVYylz3jBVAFIQQp2n4XvtxCGP                                     |1               |0                  |\n",
            "|2022-07-31  |01MyBXCqoq0bCZQJpdzBCvsHLjfkfOCr|null   |0        |https://www.goshop.com/QLCqvuMRb6hZIiLHTh9MpLi9OAzujS4bAK7cRea0K08Aco71EfD12ICSxTzIcBOfqj|2               |0                  |\n",
            "|2022-07-31  |01S9724iISCW4wX9T7PCyGxDuSgOMl0Q|null   |0        |https://www.goshop.com/68qOxvvcjmDXpytOdacnsv0hS                                         |1               |0                  |\n",
            "|2022-07-31  |01v1Im9aOQCh26bfbbynahichEw7DoKp|null   |0        |https://www.goshop.com/WBslw7l7RyEYgda9PtyLwfyq                                          |0               |1                  |\n",
            "|2022-07-31  |02068ZFFeD2etdGTFPWF1VXalwpyDC7w|null   |0        |https://www.goshop.com/VVx5k303hNNv0bfWMFkSw8ZUBZF                                       |0               |1                  |\n",
            "|2022-07-31  |020lAtE4aWz1Qolm5y0vdG6409aLCYnZ|null   |0        |https://www.goshop.com/mAiymz0yORpRReMywl1kjl                                            |0               |1                  |\n",
            "|2022-07-31  |02o2GK6KE4jigp5yuJkR0MMti3bBdQC8|null   |0        |https://www.goshop.com/7h20Bg765ii5xIj6TqaHwLoladB                                       |0               |1                  |\n",
            "|2022-07-31  |032Y5sBv39CW9b88plSaHkyEGAga5fTE|null   |0        |https://www.goshop.com/6WweThqSszhtaSO6zC6Cf                                             |0               |1                  |\n",
            "|2022-07-31  |038FMVcRm1QUxIpqb5bkESaCfnWqXbaT|null   |0        |https://www.goshop.com/JnDpVQSAtn1jWHpCPWE                                               |0               |1                  |\n",
            "|2022-07-31  |03LU6SiaXbqtgO33clQAeILkhvNCpwSK|null   |0        |https://www.goshop.com/gkggGu8a2kyLSbv5soJ2Uf                                            |0               |1                  |\n",
            "|2022-07-31  |03QeGPc2Zh7JxSHD2mpX0inpf7xcGHtJ|null   |0        |https://www.goshop.com/964f1NsmygvE5NATyt                                                |0               |1                  |\n",
            "|2022-07-31  |03gkj5Wx9iEf2qlkJEok8NG2oI3r9VEf|null   |0        |https://www.goshop.com/rG9f9ZGwXp1qLqWfViGmp5G                                           |0               |1                  |\n",
            "|2022-07-31  |03ib3A0dqzKHcr7QMKYyPZ0UxgyLPyZV|null   |0        |https://www.goshop.com/cpEUgCtStoL                                                       |1               |4                  |\n",
            "|2022-07-31  |03ouf9fyxFiieX1x9jeny5PuWi7DKQMU|null   |0        |https://www.goshop.com/PIM9J8ovmMlq8FFoMMlgx2N                                           |0               |1                  |\n",
            "+------------+--------------------------------+-------+---------+-----------------------------------------------------------------------------------------+----------------+-------------------+\n",
            "only showing top 20 rows\n",
            "\n"
          ]
        }
      ]
    }
  ]
}