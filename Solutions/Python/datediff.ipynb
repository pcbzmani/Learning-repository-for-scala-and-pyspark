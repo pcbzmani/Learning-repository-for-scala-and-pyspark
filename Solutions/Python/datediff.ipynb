{
  "nbformat": 4,
  "nbformat_minor": 0,
  "metadata": {
    "colab": {
      "name": "datediff.ipynb",
      "provenance": [],
      "authorship_tag": "ABX9TyPh5EYu4AJ3pWedFllmbmoj",
      "include_colab_link": true
    },
    "kernelspec": {
      "name": "python3",
      "display_name": "Python 3"
    },
    "language_info": {
      "name": "python"
    }
  },
  "cells": [
    {
      "cell_type": "markdown",
      "metadata": {
        "id": "view-in-github",
        "colab_type": "text"
      },
      "source": [
        "<a href=\"https://colab.research.google.com/github/pcbzmani/Learning-repository-for-scala-and-pyspark/blob/main/datediff.ipynb\" target=\"_parent\"><img src=\"https://colab.research.google.com/assets/colab-badge.svg\" alt=\"Open In Colab\"/></a>"
      ]
    },
    {
      "cell_type": "code",
      "metadata": {
        "colab": {
          "base_uri": "https://localhost:8080/",
          "height": 35
        },
        "id": "Qe_TWDZApc0g",
        "outputId": "01883920-b720-4ca9-ac0a-a754bee8b027"
      },
      "source": [
        "pwd"
      ],
      "execution_count": null,
      "outputs": [
        {
          "output_type": "execute_result",
          "data": {
            "application/vnd.google.colaboratory.intrinsic+json": {
              "type": "string"
            },
            "text/plain": [
              "'/content'"
            ]
          },
          "metadata": {},
          "execution_count": 1
        }
      ]
    },
    {
      "cell_type": "code",
      "metadata": {
        "colab": {
          "base_uri": "https://localhost:8080/"
        },
        "id": "yqtZKBzNpqqm",
        "outputId": "d0a53f85-c476-4950-a246-4f3afa5619fb"
      },
      "source": [
        "ls"
      ],
      "execution_count": null,
      "outputs": [
        {
          "output_type": "stream",
          "name": "stdout",
          "text": [
            "account_date.csv  \u001b[0m\u001b[01;34msample_data\u001b[0m/\n"
          ]
        }
      ]
    },
    {
      "cell_type": "code",
      "metadata": {
        "colab": {
          "base_uri": "https://localhost:8080/"
        },
        "id": "1KMTc5HMpsNO",
        "outputId": "c32ddfe7-f607-424c-ae70-2d2a1cc76647"
      },
      "source": [
        "pip install pyspark"
      ],
      "execution_count": null,
      "outputs": [
        {
          "output_type": "stream",
          "name": "stdout",
          "text": [
            "Collecting pyspark\n",
            "  Downloading pyspark-3.2.0.tar.gz (281.3 MB)\n",
            "\u001b[K     |████████████████████████████████| 281.3 MB 36 kB/s \n",
            "\u001b[?25hCollecting py4j==0.10.9.2\n",
            "  Downloading py4j-0.10.9.2-py2.py3-none-any.whl (198 kB)\n",
            "\u001b[K     |████████████████████████████████| 198 kB 35.9 MB/s \n",
            "\u001b[?25hBuilding wheels for collected packages: pyspark\n",
            "  Building wheel for pyspark (setup.py) ... \u001b[?25l\u001b[?25hdone\n",
            "  Created wheel for pyspark: filename=pyspark-3.2.0-py2.py3-none-any.whl size=281805912 sha256=dcf9cef733aba3e9ada01b6aa615318ba4761dabaa6313c2d9d0e9e6871e9222\n",
            "  Stored in directory: /root/.cache/pip/wheels/0b/de/d2/9be5d59d7331c6c2a7c1b6d1a4f463ce107332b1ecd4e80718\n",
            "Successfully built pyspark\n",
            "Installing collected packages: py4j, pyspark\n",
            "Successfully installed py4j-0.10.9.2 pyspark-3.2.0\n"
          ]
        }
      ]
    },
    {
      "cell_type": "code",
      "metadata": {
        "id": "sIKciIe2pyjz"
      },
      "source": [
        "from pyspark.sql import SparkSession\n",
        "spark = SparkSession.builder\\\n",
        "        .master(\"local\")\\\n",
        "        .appName(\"datediff\")\\\n",
        "        .config('spark.ui.port', '4040')\\\n",
        "        .getOrCreate()"
      ],
      "execution_count": null,
      "outputs": []
    },
    {
      "cell_type": "code",
      "metadata": {
        "id": "5llWVMGxqDZr"
      },
      "source": [
        "df = spark.read\\\n",
        "        .format('csv')\\\n",
        "        .option('sep','|')\\\n",
        "        .option('inferSchema',True)\\\n",
        "        .option('header',True)\\\n",
        "        .load('/content/account_date.csv')"
      ],
      "execution_count": null,
      "outputs": []
    },
    {
      "cell_type": "code",
      "metadata": {
        "id": "4oUqn7huqX20"
      },
      "source": [
        "from pyspark.sql.window import Window\n",
        "from pyspark.sql.functions import col,datediff,row_number,lit,when,first,lag\n",
        "from pyspark.sql.types import IntegerType"
      ],
      "execution_count": null,
      "outputs": []
    },
    {
      "cell_type": "code",
      "metadata": {
        "id": "n0Ry8t6gqbhr"
      },
      "source": [
        "w_up_cr = Window\\\n",
        "       .partitionBy('account_number')\\\n",
        "       .orderBy('date')\\\n",
        "       .rangeBetween(Window.unboundedPreceding, Window.currentRow)"
      ],
      "execution_count": null,
      "outputs": []
    },
    {
      "cell_type": "code",
      "metadata": {
        "id": "RWFVhE1lqfhY"
      },
      "source": [
        "w_op_cr = Window\\\n",
        "            .partitionBy('account_number')\\\n",
        "            .orderBy('date')\\\n",
        "            .rangeBetween(-1,Window.currentRow)"
      ],
      "execution_count": null,
      "outputs": []
    },
    {
      "cell_type": "code",
      "metadata": {
        "id": "d1JCPsXZqhIC"
      },
      "source": [
        "df = df.withColumn('first_date',first(df['date']).over(w_uf))\\\n",
        "       .withColumn('previous_date',first(df['date']).over(w_up_cr))"
      ],
      "execution_count": null,
      "outputs": []
    },
    {
      "cell_type": "code",
      "metadata": {
        "colab": {
          "base_uri": "https://localhost:8080/"
        },
        "id": "LiPtIwFdqj9C",
        "outputId": "4cd8854a-75da-401a-ae0b-be9734c79015"
      },
      "source": [
        "df.show()"
      ],
      "execution_count": null,
      "outputs": [
        {
          "output_type": "stream",
          "name": "stdout",
          "text": [
            "+--------------+----------+----------+-------------+\n",
            "|account_number|      date|first_date|previous_date|\n",
            "+--------------+----------+----------+-------------+\n",
            "|           123|2016-01-01|2016-01-01|   2016-01-01|\n",
            "|           123|2017-01-01|2016-01-01|   2016-01-01|\n",
            "|           123|2018-01-01|2016-01-01|   2016-01-01|\n",
            "|           123|2020-01-01|2016-01-01|   2016-01-01|\n",
            "|           456|2019-01-01|2019-01-01|   2019-01-01|\n",
            "|           456|2021-01-01|2019-01-01|   2019-01-01|\n",
            "|           896|2021-01-01|2021-01-01|   2021-01-01|\n",
            "+--------------+----------+----------+-------------+\n",
            "\n"
          ]
        }
      ]
    },
    {
      "cell_type": "code",
      "metadata": {
        "id": "O0ImYi3asztL"
      },
      "source": [
        "window_dt = Window\\\n",
        "            .partitionBy('Account_number')\\\n",
        "            .orderBy('Date')"
      ],
      "execution_count": null,
      "outputs": []
    },
    {
      "cell_type": "code",
      "metadata": {
        "id": "yz1URJ0UrKI0"
      },
      "source": [
        "df = df.withColumn('first_dt_der',row_number().over(window_dt))"
      ],
      "execution_count": null,
      "outputs": []
    },
    {
      "cell_type": "code",
      "metadata": {
        "colab": {
          "base_uri": "https://localhost:8080/"
        },
        "id": "VnGwefyYtfEE",
        "outputId": "b88684fa-d8fe-4643-8455-e92e7b24251a"
      },
      "source": [
        "df.show()"
      ],
      "execution_count": null,
      "outputs": [
        {
          "output_type": "stream",
          "name": "stdout",
          "text": [
            "+--------------+----------+----------+-------------+------------+\n",
            "|account_number|      date|first_date|previous_date|first_dt_der|\n",
            "+--------------+----------+----------+-------------+------------+\n",
            "|           123|2016-01-01|2016-01-01|   2016-01-01|           1|\n",
            "|           123|2017-01-01|2016-01-01|   2016-01-01|           2|\n",
            "|           123|2018-01-01|2016-01-01|   2016-01-01|           3|\n",
            "|           123|2020-01-01|2016-01-01|   2016-01-01|           4|\n",
            "|           456|2019-01-01|2019-01-01|   2019-01-01|           1|\n",
            "|           456|2021-01-01|2019-01-01|   2019-01-01|           2|\n",
            "|           896|2021-01-01|2021-01-01|   2021-01-01|           1|\n",
            "+--------------+----------+----------+-------------+------------+\n",
            "\n"
          ]
        }
      ]
    },
    {
      "cell_type": "code",
      "metadata": {
        "id": "AA2LPS0VtiPo"
      },
      "source": [
        "df = df.withColumn('date_diff_first',datediff('date','first_date'))\\\n",
        ".withColumn('date_diff_previous',datediff('date','previous_date'))\\\n",
        ".withColumn('first_dt',when(df['first_dt_der'] == '1',lit('1'))\\\n",
        "            .otherwise(lit('0')))"
      ],
      "execution_count": null,
      "outputs": []
    },
    {
      "cell_type": "code",
      "metadata": {
        "colab": {
          "base_uri": "https://localhost:8080/"
        },
        "id": "ZIfk7Cf2utw_",
        "outputId": "deac34d6-678c-426a-c124-ce259cefd320"
      },
      "source": [
        "df.show()"
      ],
      "execution_count": null,
      "outputs": [
        {
          "output_type": "stream",
          "name": "stdout",
          "text": [
            "+--------------+----------+----------+-------------+------------+---------------+------------------+--------+\n",
            "|account_number|      date|first_date|previous_date|first_dt_der|date_diff_first|date_diff_previous|first_dt|\n",
            "+--------------+----------+----------+-------------+------------+---------------+------------------+--------+\n",
            "|           123|2016-01-01|2016-01-01|   2016-01-01|           1|              0|                 0|       1|\n",
            "|           123|2017-01-01|2016-01-01|   2016-01-01|           2|            366|               366|       0|\n",
            "|           123|2018-01-01|2016-01-01|   2016-01-01|           3|            731|               731|       0|\n",
            "|           123|2020-01-01|2016-01-01|   2016-01-01|           4|           1461|              1461|       0|\n",
            "|           456|2019-01-01|2019-01-01|   2019-01-01|           1|              0|                 0|       1|\n",
            "|           456|2021-01-01|2019-01-01|   2019-01-01|           2|            731|               731|       0|\n",
            "|           896|2021-01-01|2021-01-01|   2021-01-01|           1|              0|                 0|       1|\n",
            "+--------------+----------+----------+-------------+------------+---------------+------------------+--------+\n",
            "\n"
          ]
        }
      ]
    },
    {
      "cell_type": "code",
      "metadata": {
        "id": "fHqSoTH2Lu5m"
      },
      "source": [
        "df = df.select('account_number','date','date_diff_first','date_diff_previous','first_dt')"
      ],
      "execution_count": null,
      "outputs": []
    },
    {
      "cell_type": "code",
      "metadata": {
        "colab": {
          "base_uri": "https://localhost:8080/"
        },
        "id": "epKgjp9WMCDc",
        "outputId": "7fe50509-c6a0-4011-e33f-ce8d09bad17e"
      },
      "source": [
        "df.show()"
      ],
      "execution_count": null,
      "outputs": [
        {
          "output_type": "stream",
          "name": "stdout",
          "text": [
            "+--------------+----------+---------------+------------------+--------+\n",
            "|account_number|      date|date_diff_first|date_diff_previous|first_dt|\n",
            "+--------------+----------+---------------+------------------+--------+\n",
            "|           123|2016-01-01|              0|                 0|       1|\n",
            "|           123|2017-01-01|            366|               366|       0|\n",
            "|           123|2018-01-01|            731|               731|       0|\n",
            "|           123|2020-01-01|           1461|              1461|       0|\n",
            "|           456|2019-01-01|              0|                 0|       1|\n",
            "|           456|2021-01-01|            731|               731|       0|\n",
            "|           896|2021-01-01|              0|                 0|       1|\n",
            "+--------------+----------+---------------+------------------+--------+\n",
            "\n"
          ]
        }
      ]
    },
    {
      "cell_type": "code",
      "metadata": {
        "id": "FANy2LGqyr08"
      },
      "source": [
        "df = df.withColumn('lag_prev1',lag(df['Date'],offset=1,default='2021-01-01').over(window_dt))"
      ],
      "execution_count": null,
      "outputs": []
    },
    {
      "cell_type": "code",
      "metadata": {
        "colab": {
          "base_uri": "https://localhost:8080/"
        },
        "id": "4Gio1s5T4U_K",
        "outputId": "2298210f-dd8d-4927-bb83-2a71c7ac987c"
      },
      "source": [
        "df.show()"
      ],
      "execution_count": null,
      "outputs": [
        {
          "output_type": "stream",
          "name": "stdout",
          "text": [
            "+--------------+----------+----------+-------------+--------+------------+------------------------+---------------------------+--------+----------+----------+\n",
            "|Account_number|      Date|first_date|previous_date|constant|first_dt_der|month_between_date_first|month_between_date_previous|first_dt|  lag_prev| lag_prev1|\n",
            "+--------------+----------+----------+-------------+--------+------------+------------------------+---------------------------+--------+----------+----------+\n",
            "|           123|2016-01-01|2016-01-01|   2016-01-01|       1|           1|                       0|                          0|       1|      null|2021-01-01|\n",
            "|           123|2017-01-01|2016-01-01|   2016-01-01|       1|           2|                      12|                         12|       0|2016-01-01|2016-01-01|\n",
            "|           123|2018-01-01|2016-01-01|   2017-01-01|       1|           3|                      24|                         12|       0|2017-01-01|2017-01-01|\n",
            "|           123|2020-01-01|2016-01-01|   2018-01-01|       1|           4|                      48|                         24|       0|2018-01-01|2018-01-01|\n",
            "|           456|2019-01-01|2019-01-01|   2019-01-01|       1|           1|                       0|                          0|       1|      null|2021-01-01|\n",
            "|           456|2021-01-01|2019-01-01|   2019-01-01|       1|           2|                      24|                         24|       0|2019-01-01|2019-01-01|\n",
            "|           896|2021-01-01|2021-01-01|   2021-01-01|       1|           1|                       0|                          0|       1|      null|2021-01-01|\n",
            "+--------------+----------+----------+-------------+--------+------------+------------------------+---------------------------+--------+----------+----------+\n",
            "\n"
          ]
        }
      ]
    },
    {
      "cell_type": "code",
      "metadata": {
        "id": "tUZRgj7Z4jsh"
      },
      "source": [
        ""
      ],
      "execution_count": null,
      "outputs": []
    }
  ]
}
