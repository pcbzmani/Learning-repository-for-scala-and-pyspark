{
  "nbformat": 4,
  "nbformat_minor": 0,
  "metadata": {
    "colab": {
      "name": "pyspark_max.ipynb",
      "provenance": [],
      "authorship_tag": "ABX9TyOohDNHX5MmvMtm0Sz/YRAj",
      "include_colab_link": true
    },
    "kernelspec": {
      "name": "python3",
      "display_name": "Python 3"
    },
    "language_info": {
      "name": "python"
    }
  },
  "cells": [
    {
      "cell_type": "markdown",
      "metadata": {
        "id": "view-in-github",
        "colab_type": "text"
      },
      "source": [
        "<a href=\"https://colab.research.google.com/github/pcbzmani/Learning-repository-for-scala-and-pyspark/blob/main/Solutions/Python/pyspark_max.ipynb\" target=\"_parent\"><img src=\"https://colab.research.google.com/assets/colab-badge.svg\" alt=\"Open In Colab\"/></a>"
      ]
    },
    {
      "cell_type": "code",
      "execution_count": 1,
      "metadata": {
        "colab": {
          "base_uri": "https://localhost:8080/"
        },
        "id": "V1zdBBZ76Q4A",
        "outputId": "02b44c94-74fa-4c07-98b2-b527dfce70f5"
      },
      "outputs": [
        {
          "output_type": "stream",
          "name": "stdout",
          "text": [
            "Collecting pyspark\n",
            "  Downloading pyspark-3.2.0.tar.gz (281.3 MB)\n",
            "\u001b[K     |████████████████████████████████| 281.3 MB 36 kB/s \n",
            "\u001b[?25hCollecting py4j==0.10.9.2\n",
            "  Downloading py4j-0.10.9.2-py2.py3-none-any.whl (198 kB)\n",
            "\u001b[K     |████████████████████████████████| 198 kB 60.8 MB/s \n",
            "\u001b[?25hBuilding wheels for collected packages: pyspark\n",
            "  Building wheel for pyspark (setup.py) ... \u001b[?25l\u001b[?25hdone\n",
            "  Created wheel for pyspark: filename=pyspark-3.2.0-py2.py3-none-any.whl size=281805912 sha256=50cb02d6c9b4c9c0659b7b148054763c18118fa4aa5dff0efe9e903b01f4acca\n",
            "  Stored in directory: /root/.cache/pip/wheels/0b/de/d2/9be5d59d7331c6c2a7c1b6d1a4f463ce107332b1ecd4e80718\n",
            "Successfully built pyspark\n",
            "Installing collected packages: py4j, pyspark\n",
            "Successfully installed py4j-0.10.9.2 pyspark-3.2.0\n"
          ]
        }
      ],
      "source": [
        "pip install pyspark"
      ]
    },
    {
      "cell_type": "code",
      "source": [
        "from pyspark.sql import SparkSession\n",
        "spark = SparkSession.builder\\\n",
        "        .master(\"local\")\\\n",
        "        .appName(\"datediff\")\\\n",
        "        .config('spark.ui.port', '4040')\\\n",
        "        .getOrCreate()"
      ],
      "metadata": {
        "id": "jFEKr_156Xq_"
      },
      "execution_count": 2,
      "outputs": []
    },
    {
      "cell_type": "code",
      "source": [
        "df = spark.read\\\n",
        "        .format('csv')\\\n",
        "        .option('sep','|')\\\n",
        "        .option('inferSchema',True)\\\n",
        "        .option('header',True)\\\n",
        "        .load('/content/pyspark_max.csv')"
      ],
      "metadata": {
        "id": "YCM5q43y613X"
      },
      "execution_count": 3,
      "outputs": []
    },
    {
      "cell_type": "code",
      "source": [
        "df.show()"
      ],
      "metadata": {
        "colab": {
          "base_uri": "https://localhost:8080/"
        },
        "id": "03lpghAl7D0V",
        "outputId": "50a4247b-69cb-4de5-8cfd-ce5e25e17f5e"
      },
      "execution_count": 4,
      "outputs": [
        {
          "output_type": "stream",
          "name": "stdout",
          "text": [
            "+---------+-----------------+---------+--------+----------+\n",
            "|     Date|      Description|   Credit|   Debit|   Balance|\n",
            "+---------+-----------------+---------+--------+----------+\n",
            "|12-1-2021|           Salary|87,771.00|    0.00| 87,771.00|\n",
            "|12-1-2021| Previous_mon_bal|16,922.10|    0.00|104,693.10|\n",
            "|12-1-2021|           Stocks|     0.00|5,000.00| 99,693.10|\n",
            "|12-2-2021|   Post_office_rd|     0.00|2,500.00| 97,193.10|\n",
            "|12-3-2021|          EB_bill|     0.00|  480.00| 96,713.10|\n",
            "|12-3-2021|             Chit|     0.00|5,000.00| 91,713.10|\n",
            "|12-3-2021|              SIP|     0.00|  500.00| 91,213.10|\n",
            "|12-3-2021|           Refund| 1,100.00|    0.00| 92,313.10|\n",
            "|12-4-2021|          dentist|     0.00|  600.00| 91,713.10|\n",
            "|12-4-2021|       eating_out|     0.00|  900.00| 90,813.10|\n",
            "|12-4-2021|    hair_medicine|     0.00|1,722.00| 89,091.10|\n",
            "|12-4-2021|           petrol|     0.00|  400.00| 88,691.10|\n",
            "|12-4-2021|        vegtables|     0.00|  250.00| 88,441.10|\n",
            "|12-5-2021|         land_emi|     0.00|4,000.00| 84,441.10|\n",
            "|12-5-2021|           snacks|     0.00|  220.00| 84,221.10|\n",
            "|12-5-2021|somavaram_expense|     0.00|8,010.00| 76,211.10|\n",
            "|12-5-2021|     train_ticket|     0.00|  381.80| 75,829.30|\n",
            "|12-6-2021|            water|     0.00|   90.00| 75,739.30|\n",
            "|12-6-2021|             auto|     0.00|  100.00| 75,639.30|\n",
            "|12-7-2021|             lend|     0.00|5,000.00| 70,639.30|\n",
            "+---------+-----------------+---------+--------+----------+\n",
            "only showing top 20 rows\n",
            "\n"
          ]
        }
      ]
    },
    {
      "cell_type": "code",
      "source": [
        "from pyspark.sql.window import Window\n",
        "from pyspark.sql.functions import desc,col,max"
      ],
      "metadata": {
        "id": "jbR3Dt2l7HTN"
      },
      "execution_count": 19,
      "outputs": []
    },
    {
      "cell_type": "code",
      "source": [
        "window_spec = Window\\\n",
        ".partitionBy('Date')\\\n",
        ".orderBy(col('Debit').desc())"
      ],
      "metadata": {
        "id": "d4nWQh7e7YvG"
      },
      "execution_count": 20,
      "outputs": []
    },
    {
      "cell_type": "code",
      "source": [
        "df = df.withColumn('max_exp_per_day',max(col('Debit')).over(window_spec))"
      ],
      "metadata": {
        "id": "HKaTCQKG8V1s"
      },
      "execution_count": 21,
      "outputs": []
    },
    {
      "cell_type": "code",
      "source": [
        "df.show()"
      ],
      "metadata": {
        "colab": {
          "base_uri": "https://localhost:8080/"
        },
        "id": "FUqmhxHo9K4U",
        "outputId": "8b40557a-7dc8-49bf-c8f2-3bb1767c65e4"
      },
      "execution_count": 22,
      "outputs": [
        {
          "output_type": "stream",
          "name": "stdout",
          "text": [
            "+---------+-----------------+---------+--------+----------+---------------+\n",
            "|     Date|      Description|   Credit|   Debit|   Balance|max_exp_per_day|\n",
            "+---------+-----------------+---------+--------+----------+---------------+\n",
            "|12-1-2021|           Stocks|     0.00|5,000.00| 99,693.10|       5,000.00|\n",
            "|12-1-2021|           Salary|87,771.00|    0.00| 87,771.00|       5,000.00|\n",
            "|12-1-2021| Previous_mon_bal|16,922.10|    0.00|104,693.10|       5,000.00|\n",
            "|12-2-2021|   Post_office_rd|     0.00|2,500.00| 97,193.10|       2,500.00|\n",
            "|12-3-2021|              SIP|     0.00|  500.00| 91,213.10|         500.00|\n",
            "|12-3-2021|             Chit|     0.00|5,000.00| 91,713.10|         500.00|\n",
            "|12-3-2021|          EB_bill|     0.00|  480.00| 96,713.10|         500.00|\n",
            "|12-3-2021|           Refund| 1,100.00|    0.00| 92,313.10|         500.00|\n",
            "|12-4-2021|       eating_out|     0.00|  900.00| 90,813.10|         900.00|\n",
            "|12-4-2021|          dentist|     0.00|  600.00| 91,713.10|         900.00|\n",
            "|12-4-2021|           petrol|     0.00|  400.00| 88,691.10|         900.00|\n",
            "|12-4-2021|        vegtables|     0.00|  250.00| 88,441.10|         900.00|\n",
            "|12-4-2021|    hair_medicine|     0.00|1,722.00| 89,091.10|         900.00|\n",
            "|12-5-2021|somavaram_expense|     0.00|8,010.00| 76,211.10|       8,010.00|\n",
            "|12-5-2021|         land_emi|     0.00|4,000.00| 84,441.10|       8,010.00|\n",
            "|12-5-2021|     train_ticket|     0.00|  381.80| 75,829.30|       8,010.00|\n",
            "|12-5-2021|           snacks|     0.00|  220.00| 84,221.10|       8,010.00|\n",
            "|12-6-2021|            water|     0.00|   90.00| 75,739.30|          90.00|\n",
            "|12-6-2021|             auto|     0.00|  100.00| 75,639.30|          90.00|\n",
            "|12-7-2021|             lend|     0.00|5,000.00| 70,639.30|       5,000.00|\n",
            "+---------+-----------------+---------+--------+----------+---------------+\n",
            "only showing top 20 rows\n",
            "\n"
          ]
        }
      ]
    },
    {
      "cell_type": "code",
      "source": [
        ""
      ],
      "metadata": {
        "id": "uC9BCqg99bqR"
      },
      "execution_count": null,
      "outputs": []
    }
  ]
}