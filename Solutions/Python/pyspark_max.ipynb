{
  "nbformat": 4,
  "nbformat_minor": 0,
  "metadata": {
    "colab": {
      "name": "pyspark_max.ipynb",
      "provenance": [],
      "authorship_tag": "ABX9TyP+kQOsjkjHqEcqnBj8/We8",
      "include_colab_link": true
    },
    "kernelspec": {
      "name": "python3",
      "display_name": "Python 3"
    },
    "language_info": {
      "name": "python"
    }
  },
  "cells": [
    {
      "cell_type": "markdown",
      "metadata": {
        "id": "view-in-github",
        "colab_type": "text"
      },
      "source": [
        "<a href=\"https://colab.research.google.com/github/pcbzmani/Learning-repository-for-scala-and-pyspark/blob/main/Solutions/Python/pyspark_max.ipynb\" target=\"_parent\"><img src=\"https://colab.research.google.com/assets/colab-badge.svg\" alt=\"Open In Colab\"/></a>"
      ]
    },
    {
      "cell_type": "code",
      "execution_count": 1,
      "metadata": {
        "colab": {
          "base_uri": "https://localhost:8080/"
        },
        "id": "V1zdBBZ76Q4A",
        "outputId": "02b44c94-74fa-4c07-98b2-b527dfce70f5"
      },
      "outputs": [
        {
          "output_type": "stream",
          "name": "stdout",
          "text": [
            "Collecting pyspark\n",
            "  Downloading pyspark-3.2.0.tar.gz (281.3 MB)\n",
            "\u001b[K     |████████████████████████████████| 281.3 MB 36 kB/s \n",
            "\u001b[?25hCollecting py4j==0.10.9.2\n",
            "  Downloading py4j-0.10.9.2-py2.py3-none-any.whl (198 kB)\n",
            "\u001b[K     |████████████████████████████████| 198 kB 60.8 MB/s \n",
            "\u001b[?25hBuilding wheels for collected packages: pyspark\n",
            "  Building wheel for pyspark (setup.py) ... \u001b[?25l\u001b[?25hdone\n",
            "  Created wheel for pyspark: filename=pyspark-3.2.0-py2.py3-none-any.whl size=281805912 sha256=50cb02d6c9b4c9c0659b7b148054763c18118fa4aa5dff0efe9e903b01f4acca\n",
            "  Stored in directory: /root/.cache/pip/wheels/0b/de/d2/9be5d59d7331c6c2a7c1b6d1a4f463ce107332b1ecd4e80718\n",
            "Successfully built pyspark\n",
            "Installing collected packages: py4j, pyspark\n",
            "Successfully installed py4j-0.10.9.2 pyspark-3.2.0\n"
          ]
        }
      ],
      "source": [
        "pip install pyspark"
      ]
    },
    {
      "cell_type": "code",
      "source": [
        "from pyspark.sql import SparkSession\n",
        "spark = SparkSession.builder\\\n",
        "        .master(\"local\")\\\n",
        "        .appName(\"datediff\")\\\n",
        "        .config('spark.ui.port', '4040')\\\n",
        "        .getOrCreate()"
      ],
      "metadata": {
        "id": "jFEKr_156Xq_"
      },
      "execution_count": 2,
      "outputs": []
    },
    {
      "cell_type": "code",
      "source": [
        "df = spark.read\\\n",
        "        .format('csv')\\\n",
        "        .option('sep','|')\\\n",
        "        .option('inferSchema',True)\\\n",
        "        .option('header',True)\\\n",
        "        .load('/content/pyspark_max.csv')"
      ],
      "metadata": {
        "id": "YCM5q43y613X"
      },
      "execution_count": 43,
      "outputs": []
    },
    {
      "cell_type": "code",
      "source": [
        "df.show()"
      ],
      "metadata": {
        "colab": {
          "base_uri": "https://localhost:8080/"
        },
        "id": "03lpghAl7D0V",
        "outputId": "dc88a428-c6ea-49e8-93c5-8d97cde54157"
      },
      "execution_count": 44,
      "outputs": [
        {
          "output_type": "stream",
          "name": "stdout",
          "text": [
            "+----------+-----------------+-------+------+---------+\n",
            "|      Date|      Description| Credit| Debit|  Balance|\n",
            "+----------+-----------------+-------+------+---------+\n",
            "|12-01-2021|           Salary|87771.0|   0.0|87,771.00|\n",
            "|12-01-2021| Previous_mon_bal|16922.1|   0.0|104693.10|\n",
            "|12-01-2021|           Stocks|    0.0|5000.0| 99693.10|\n",
            "|12-02-2021|   Post_office_rd|    0.0|2500.0| 97193.10|\n",
            "|12-03-2021|          EB_bill|    0.0| 480.0| 96713.10|\n",
            "|12-03-2021|             Chit|    0.0|5000.0| 91713.10|\n",
            "|12-03-2021|              SIP|    0.0| 500.0| 91213.10|\n",
            "|12-03-2021|           Refund| 1100.0|   0.0| 92313.10|\n",
            "|12-04-2021|          dentist|    0.0| 600.0| 91713.10|\n",
            "|12-04-2021|       eating_out|    0.0| 900.0| 90813.10|\n",
            "|12-04-2021|    hair_medicine|    0.0|1722.0| 89091.10|\n",
            "|12-04-2021|           petrol|    0.0| 400.0| 88691.10|\n",
            "|12-04-2021|        vegtables|    0.0| 250.0| 88441.10|\n",
            "|12-05-2021|         land_emi|    0.0|4000.0| 84441.10|\n",
            "|12-05-2021|           snacks|    0.0| 220.0| 84221.10|\n",
            "|12-05-2021|somavaram_expense|    0.0|8010.0| 76211.10|\n",
            "|12-05-2021|     train_ticket|    0.0| 381.8| 75829.30|\n",
            "|12-06-2021|            water|    0.0|  90.0| 75739.30|\n",
            "|12-06-2021|             auto|    0.0| 100.0| 75639.30|\n",
            "|12-07-2021|             lend|    0.0|5000.0| 70639.30|\n",
            "+----------+-----------------+-------+------+---------+\n",
            "only showing top 20 rows\n",
            "\n"
          ]
        }
      ]
    },
    {
      "cell_type": "code",
      "source": [
        "from pyspark.sql.window import Window\n",
        "from pyspark.sql.functions import desc,col,max,to_date\n",
        "from datetime import datetime\n",
        "from pyspark.sql.types import DecimalType"
      ],
      "metadata": {
        "id": "jbR3Dt2l7HTN"
      },
      "execution_count": 45,
      "outputs": []
    },
    {
      "cell_type": "code",
      "source": [
        "df = df.withColumn('Date',to_date('Date','MM-dd-yyyy'))\\\n",
        ".withColumn('Debit',col('Debit').cast(DecimalType()))"
      ],
      "metadata": {
        "id": "Q671hXsJ-kml"
      },
      "execution_count": 46,
      "outputs": []
    },
    {
      "cell_type": "code",
      "source": [
        "df.show()"
      ],
      "metadata": {
        "colab": {
          "base_uri": "https://localhost:8080/"
        },
        "id": "kZRBYZd5_DoO",
        "outputId": "6f00d705-7d07-4b47-8c79-9b018b7fb3a0"
      },
      "execution_count": 47,
      "outputs": [
        {
          "output_type": "stream",
          "name": "stdout",
          "text": [
            "+----------+-----------------+-------+-----+---------+\n",
            "|      Date|      Description| Credit|Debit|  Balance|\n",
            "+----------+-----------------+-------+-----+---------+\n",
            "|2021-12-01|           Salary|87771.0|    0|87,771.00|\n",
            "|2021-12-01| Previous_mon_bal|16922.1|    0|104693.10|\n",
            "|2021-12-01|           Stocks|    0.0| 5000| 99693.10|\n",
            "|2021-12-02|   Post_office_rd|    0.0| 2500| 97193.10|\n",
            "|2021-12-03|          EB_bill|    0.0|  480| 96713.10|\n",
            "|2021-12-03|             Chit|    0.0| 5000| 91713.10|\n",
            "|2021-12-03|              SIP|    0.0|  500| 91213.10|\n",
            "|2021-12-03|           Refund| 1100.0|    0| 92313.10|\n",
            "|2021-12-04|          dentist|    0.0|  600| 91713.10|\n",
            "|2021-12-04|       eating_out|    0.0|  900| 90813.10|\n",
            "|2021-12-04|    hair_medicine|    0.0| 1722| 89091.10|\n",
            "|2021-12-04|           petrol|    0.0|  400| 88691.10|\n",
            "|2021-12-04|        vegtables|    0.0|  250| 88441.10|\n",
            "|2021-12-05|         land_emi|    0.0| 4000| 84441.10|\n",
            "|2021-12-05|           snacks|    0.0|  220| 84221.10|\n",
            "|2021-12-05|somavaram_expense|    0.0| 8010| 76211.10|\n",
            "|2021-12-05|     train_ticket|    0.0|  382| 75829.30|\n",
            "|2021-12-06|            water|    0.0|   90| 75739.30|\n",
            "|2021-12-06|             auto|    0.0|  100| 75639.30|\n",
            "|2021-12-07|             lend|    0.0| 5000| 70639.30|\n",
            "+----------+-----------------+-------+-----+---------+\n",
            "only showing top 20 rows\n",
            "\n"
          ]
        }
      ]
    },
    {
      "cell_type": "code",
      "source": [
        "window_spec = Window\\\n",
        ".partitionBy('Date')\\\n",
        ".orderBy(col('Debit').desc())"
      ],
      "metadata": {
        "id": "d4nWQh7e7YvG"
      },
      "execution_count": 48,
      "outputs": []
    },
    {
      "cell_type": "code",
      "source": [
        "df = df.withColumn('max_exp_per_day',max(col('Debit')).over(window_spec))"
      ],
      "metadata": {
        "id": "HKaTCQKG8V1s"
      },
      "execution_count": 49,
      "outputs": []
    },
    {
      "cell_type": "code",
      "source": [
        "df.show()"
      ],
      "metadata": {
        "colab": {
          "base_uri": "https://localhost:8080/"
        },
        "id": "FUqmhxHo9K4U",
        "outputId": "bb6aa5c0-d881-4768-9708-3ef4e6f39fa7"
      },
      "execution_count": 50,
      "outputs": [
        {
          "output_type": "stream",
          "name": "stdout",
          "text": [
            "+----------+-----------------+-------+-----+---------+---------------+\n",
            "|      Date|      Description| Credit|Debit|  Balance|max_exp_per_day|\n",
            "+----------+-----------------+-------+-----+---------+---------------+\n",
            "|2021-12-01|           Stocks|    0.0| 5000| 99693.10|           5000|\n",
            "|2021-12-01|           Salary|87771.0|    0|87,771.00|           5000|\n",
            "|2021-12-01| Previous_mon_bal|16922.1|    0|104693.10|           5000|\n",
            "|2021-12-02|   Post_office_rd|    0.0| 2500| 97193.10|           2500|\n",
            "|2021-12-03|             Chit|    0.0| 5000| 91713.10|           5000|\n",
            "|2021-12-03|              SIP|    0.0|  500| 91213.10|           5000|\n",
            "|2021-12-03|          EB_bill|    0.0|  480| 96713.10|           5000|\n",
            "|2021-12-03|           Refund| 1100.0|    0| 92313.10|           5000|\n",
            "|2021-12-04|    hair_medicine|    0.0| 1722| 89091.10|           1722|\n",
            "|2021-12-04|       eating_out|    0.0|  900| 90813.10|           1722|\n",
            "|2021-12-04|          dentist|    0.0|  600| 91713.10|           1722|\n",
            "|2021-12-04|           petrol|    0.0|  400| 88691.10|           1722|\n",
            "|2021-12-04|        vegtables|    0.0|  250| 88441.10|           1722|\n",
            "|2021-12-05|somavaram_expense|    0.0| 8010| 76211.10|           8010|\n",
            "|2021-12-05|         land_emi|    0.0| 4000| 84441.10|           8010|\n",
            "|2021-12-05|     train_ticket|    0.0|  382| 75829.30|           8010|\n",
            "|2021-12-05|           snacks|    0.0|  220| 84221.10|           8010|\n",
            "|2021-12-06|             auto|    0.0|  100| 75639.30|            100|\n",
            "|2021-12-06|            water|    0.0|   90| 75739.30|            100|\n",
            "|2021-12-07|             lend|    0.0| 5000| 70639.30|           5000|\n",
            "+----------+-----------------+-------+-----+---------+---------------+\n",
            "only showing top 20 rows\n",
            "\n"
          ]
        }
      ]
    },
    {
      "cell_type": "code",
      "source": [
        ""
      ],
      "metadata": {
        "id": "uC9BCqg99bqR"
      },
      "execution_count": null,
      "outputs": []
    }
  ]
}