{
  "nbformat": 4,
  "nbformat_minor": 0,
  "metadata": {
    "colab": {
      "name": "explode",
      "provenance": [],
      "authorship_tag": "ABX9TyPW89FNYFFk95KjoQJr2Jad",
      "include_colab_link": true
    },
    "kernelspec": {
      "name": "python3",
      "display_name": "Python 3"
    },
    "language_info": {
      "name": "python"
    }
  },
  "cells": [
    {
      "cell_type": "markdown",
      "metadata": {
        "id": "view-in-github",
        "colab_type": "text"
      },
      "source": [
        "<a href=\"https://colab.research.google.com/github/pcbzmani/Learning-repository-for-scala-and-pyspark/blob/main/Solutions/Python/explode.ipynb\" target=\"_parent\"><img src=\"https://colab.research.google.com/assets/colab-badge.svg\" alt=\"Open In Colab\"/></a>"
      ]
    },
    {
      "cell_type": "code",
      "execution_count": 1,
      "metadata": {
        "colab": {
          "base_uri": "https://localhost:8080/"
        },
        "id": "Wq7l9pCIsrIs",
        "outputId": "25485541-2c5d-47c3-f295-2e9653b6f7b5"
      },
      "outputs": [
        {
          "output_type": "stream",
          "name": "stdout",
          "text": [
            "Collecting pyspark\n",
            "  Downloading pyspark-3.2.0.tar.gz (281.3 MB)\n",
            "\u001b[K     |████████████████████████████████| 281.3 MB 33 kB/s \n",
            "\u001b[?25hCollecting py4j==0.10.9.2\n",
            "  Downloading py4j-0.10.9.2-py2.py3-none-any.whl (198 kB)\n",
            "\u001b[K     |████████████████████████████████| 198 kB 56.0 MB/s \n",
            "\u001b[?25hBuilding wheels for collected packages: pyspark\n",
            "  Building wheel for pyspark (setup.py) ... \u001b[?25l\u001b[?25hdone\n",
            "  Created wheel for pyspark: filename=pyspark-3.2.0-py2.py3-none-any.whl size=281805912 sha256=836342ef3f4fe1d06693e8001f2adafc20fa3ca51e73f5e44b28a64aa1557ae9\n",
            "  Stored in directory: /root/.cache/pip/wheels/0b/de/d2/9be5d59d7331c6c2a7c1b6d1a4f463ce107332b1ecd4e80718\n",
            "Successfully built pyspark\n",
            "Installing collected packages: py4j, pyspark\n",
            "Successfully installed py4j-0.10.9.2 pyspark-3.2.0\n"
          ]
        }
      ],
      "source": [
        "!pip install pyspark"
      ]
    },
    {
      "cell_type": "markdown",
      "source": [
        "Input:\n",
        "\n",
        "|Name|Age|Skills|\n",
        "|----|---|------|\n",
        "|Mani|27|IT-Healthcare-Insurance-Trade|\n",
        "\n",
        "Expected ouput:\n",
        "\n",
        "|Name|Age|Skills|\n",
        "|----|---|------|\n",
        "|Mani|27|IT|\n",
        "|Mani|27|Healthcare|\n",
        "|Mani|27|Insurance|\n",
        "|Mani|27|Trade|\n",
        "\n"
      ],
      "metadata": {
        "id": "FZ4HRfYa4Ksi"
      }
    },
    {
      "cell_type": "code",
      "source": [
        "from pyspark.sql import SparkSession\n",
        "spark = SparkSession.builder\\\n",
        "        .master(\"local\")\\\n",
        "        .appName(\"percentagerise\")\\\n",
        "        .config('spark.ui.port', '4040')\\\n",
        "        .getOrCreate()"
      ],
      "metadata": {
        "id": "CgaGJuHUs6zY"
      },
      "execution_count": 49,
      "outputs": []
    },
    {
      "cell_type": "code",
      "source": [
        "df = spark.read.format('csv')\\\n",
        ".option('header',True)\\\n",
        ".option('sep',',')\\\n",
        ".load('/datafile.csv')"
      ],
      "metadata": {
        "id": "CtSGv7tItDpL"
      },
      "execution_count": 50,
      "outputs": []
    },
    {
      "cell_type": "code",
      "source": [
        "from pyspark.sql.functions import split,explode"
      ],
      "metadata": {
        "id": "dMezS8UXt3ec"
      },
      "execution_count": 51,
      "outputs": []
    },
    {
      "cell_type": "code",
      "source": [
        "df = df.withColumn('Skills',(explode(split(df.Skills,'-'))))"
      ],
      "metadata": {
        "id": "aBYntA_0uCq8"
      },
      "execution_count": 52,
      "outputs": []
    },
    {
      "cell_type": "code",
      "source": [
        "df.show()"
      ],
      "metadata": {
        "colab": {
          "base_uri": "https://localhost:8080/"
        },
        "id": "bpqLvMA44Grd",
        "outputId": "4439477c-37ff-453d-98ed-a73ff21c45db"
      },
      "execution_count": 53,
      "outputs": [
        {
          "output_type": "stream",
          "name": "stdout",
          "text": [
            "+----+---+----------+\n",
            "|Name|Age|    Skills|\n",
            "+----+---+----------+\n",
            "|Mani| 27|        IT|\n",
            "|Mani| 27|Healthcare|\n",
            "|Mani| 27| Insurance|\n",
            "|Mani| 27|     Trade|\n",
            "+----+---+----------+\n",
            "\n"
          ]
        }
      ]
    },
    {
      "cell_type": "code",
      "source": [
        ""
      ],
      "metadata": {
        "id": "3njCoLbg4H1K"
      },
      "execution_count": null,
      "outputs": []
    }
  ]
}