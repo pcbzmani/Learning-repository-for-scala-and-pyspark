{
  "nbformat": 4,
  "nbformat_minor": 0,
  "metadata": {
    "colab": {
      "name": "multiplejoinswithfilter.ipynb",
      "provenance": [],
      "authorship_tag": "ABX9TyOdmxV3HGfAkwz2iiUQnfbA",
      "include_colab_link": true
    },
    "kernelspec": {
      "name": "python3",
      "display_name": "Python 3"
    },
    "language_info": {
      "name": "python"
    }
  },
  "cells": [
    {
      "cell_type": "markdown",
      "metadata": {
        "id": "view-in-github",
        "colab_type": "text"
      },
      "source": [
        "<a href=\"https://colab.research.google.com/github/pcbzmani/Learning-repository-for-scala-and-pyspark/blob/main/Solutions/Python/multiplejoinswithfilter.ipynb\" target=\"_parent\"><img src=\"https://colab.research.google.com/assets/colab-badge.svg\" alt=\"Open In Colab\"/></a>"
      ]
    },
    {
      "cell_type": "code",
      "execution_count": 1,
      "metadata": {
        "colab": {
          "base_uri": "https://localhost:8080/"
        },
        "id": "lYBVnd1jvxw6",
        "outputId": "0d9180e2-ec70-4358-b8b9-6ee1759cd7db"
      },
      "outputs": [
        {
          "output_type": "stream",
          "name": "stdout",
          "text": [
            "Collecting pyspark\n",
            "  Downloading pyspark-3.2.1.tar.gz (281.4 MB)\n",
            "\u001b[K     |████████████████████████████████| 281.4 MB 35 kB/s \n",
            "\u001b[?25hCollecting py4j==0.10.9.3\n",
            "  Downloading py4j-0.10.9.3-py2.py3-none-any.whl (198 kB)\n",
            "\u001b[K     |████████████████████████████████| 198 kB 46.7 MB/s \n",
            "\u001b[?25hBuilding wheels for collected packages: pyspark\n",
            "  Building wheel for pyspark (setup.py) ... \u001b[?25l\u001b[?25hdone\n",
            "  Created wheel for pyspark: filename=pyspark-3.2.1-py2.py3-none-any.whl size=281853642 sha256=d91cdcfcad680b42ea9f3384015783971b2931efd267047a63e98241034eb2e7\n",
            "  Stored in directory: /root/.cache/pip/wheels/9f/f5/07/7cd8017084dce4e93e84e92efd1e1d5334db05f2e83bcef74f\n",
            "Successfully built pyspark\n",
            "Installing collected packages: py4j, pyspark\n",
            "Successfully installed py4j-0.10.9.3 pyspark-3.2.1\n"
          ]
        }
      ],
      "source": [
        "!pip install pyspark"
      ]
    },
    {
      "cell_type": "code",
      "source": [
        "from pyspark.sql import SparkSession\n",
        "spark = SparkSession.builder\\\n",
        "        .master(\"local\")\\\n",
        "        .appName(\"datediff\")\\\n",
        "        .config('spark.ui.port', '4040')\\\n",
        "        .getOrCreate()"
      ],
      "metadata": {
        "id": "VtuY4WLYv5rz"
      },
      "execution_count": 2,
      "outputs": []
    },
    {
      "cell_type": "code",
      "source": [
        "emp_data = [(1,'Mani',1,3),(2,'Pat',2,2),(3,'Raj',3,1),(4,'Vinoth',4,4)]\n",
        "cols_emp = ['id','name','dept_id','grade_id']\n",
        "dept_data = [(1,'IT'),(2,'Data Analytics'),(3,'Infra'),(4,'Cyber')]\n",
        "cols_dept = ['id','name']\n",
        "grade_data = [(1,'Trainee'),(2,'Associate'),(3,'Senior Associate'),(4,'Consultant')]\n",
        "cols_grade = ['id','name']"
      ],
      "metadata": {
        "id": "TECHmPflwE5N"
      },
      "execution_count": 20,
      "outputs": []
    },
    {
      "cell_type": "code",
      "source": [
        "rdd1 = spark.sparkContext.parallelize(emp_data)\n",
        "emp_df = rdd1.toDF(cols_emp)\n",
        "\n",
        "rdd2 = spark.sparkContext.parallelize(dept_data)\n",
        "dept_df = rdd2.toDF(cols_dept)\n",
        "\n",
        "rdd3 = spark.sparkContext.parallelize(grade_data)\n",
        "grade_df = rdd3.toDF(cols_grade)"
      ],
      "metadata": {
        "id": "bN8joHc7xS2t"
      },
      "execution_count": 21,
      "outputs": []
    },
    {
      "cell_type": "code",
      "source": [
        "emp_df.show()"
      ],
      "metadata": {
        "colab": {
          "base_uri": "https://localhost:8080/"
        },
        "id": "UnY3yL9axuV8",
        "outputId": "f2d20669-3d84-4e8a-b965-e643b76edee1"
      },
      "execution_count": 22,
      "outputs": [
        {
          "output_type": "stream",
          "name": "stdout",
          "text": [
            "+---+------+-------+--------+\n",
            "| id|  name|dept_id|grade_id|\n",
            "+---+------+-------+--------+\n",
            "|  1|  Mani|      1|       3|\n",
            "|  2|   Pat|      2|       2|\n",
            "|  3|   Raj|      3|       1|\n",
            "|  4|Vinoth|      4|       4|\n",
            "+---+------+-------+--------+\n",
            "\n"
          ]
        }
      ]
    },
    {
      "cell_type": "code",
      "source": [
        "dept_df = dept_df.withColumnRenamed('id','dept_id')\\\n",
        "                 .withColumnRenamed('name','dept_name')"
      ],
      "metadata": {
        "id": "MqhlmStGxyu6"
      },
      "execution_count": 23,
      "outputs": []
    },
    {
      "cell_type": "code",
      "source": [
        "grade_df = grade_df.withColumnRenamed('id','grade_id')\\\n",
        "                   .withColumnRenamed('name','grade_name')"
      ],
      "metadata": {
        "id": "XHH2DxAKyDjB"
      },
      "execution_count": 24,
      "outputs": []
    },
    {
      "cell_type": "code",
      "source": [
        "dept_join_cond = [emp_df.dept_id == dept_df.dept_id]\n",
        "grade_join_cond = [emp_df.grade_id == grade_df.grade_id]\n",
        "join_type = 'left_outer'"
      ],
      "metadata": {
        "id": "dUp3YXVbyFNa"
      },
      "execution_count": 25,
      "outputs": []
    },
    {
      "cell_type": "code",
      "source": [
        "res_df = emp_df.join(dept_df,dept_join_cond,join_type)\\\n",
        "               .join(grade_df,grade_join_cond,join_type)\\\n",
        "               .filter('dept_name ==\"Infra\" or dept_name == \"IT\" or grade_name == \"Associate\"')\\\n",
        "               .select('id','name','dept_name','grade_name')"
      ],
      "metadata": {
        "id": "eZKgrvHdy6x6"
      },
      "execution_count": 32,
      "outputs": []
    },
    {
      "cell_type": "code",
      "source": [
        "res_df.show()"
      ],
      "metadata": {
        "colab": {
          "base_uri": "https://localhost:8080/"
        },
        "id": "rH1Q8AmazK19",
        "outputId": "0aad299d-ceb9-4379-e261-a47324df280e"
      },
      "execution_count": 33,
      "outputs": [
        {
          "output_type": "stream",
          "name": "stdout",
          "text": [
            "+---+----+--------------+----------------+\n",
            "| id|name|     dept_name|      grade_name|\n",
            "+---+----+--------------+----------------+\n",
            "|  3| Raj|         Infra|         Trainee|\n",
            "|  2| Pat|Data Analytics|       Associate|\n",
            "|  1|Mani|            IT|Senior Associate|\n",
            "+---+----+--------------+----------------+\n",
            "\n"
          ]
        }
      ]
    },
    {
      "cell_type": "code",
      "source": [
        "spark.stop()"
      ],
      "metadata": {
        "id": "M43cHZ2zzMLw"
      },
      "execution_count": 34,
      "outputs": []
    },
    {
      "cell_type": "code",
      "source": [
        ""
      ],
      "metadata": {
        "id": "fa8rkq6V2J9Q"
      },
      "execution_count": null,
      "outputs": []
    }
  ]
}