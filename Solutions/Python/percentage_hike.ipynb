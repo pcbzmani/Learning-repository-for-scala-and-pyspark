{
  "nbformat": 4,
  "nbformat_minor": 0,
  "metadata": {
    "colab": {
      "name": "percentage_hike",
      "provenance": [],
      "authorship_tag": "ABX9TyOLJIuJq54rfHRX7hgqVnj6",
      "include_colab_link": true
    },
    "kernelspec": {
      "name": "python3",
      "display_name": "Python 3"
    },
    "language_info": {
      "name": "python"
    }
  },
  "cells": [
    {
      "cell_type": "markdown",
      "metadata": {
        "id": "view-in-github",
        "colab_type": "text"
      },
      "source": [
        "<a href=\"https://colab.research.google.com/github/pcbzmani/Learning-repository-for-scala-and-pyspark/blob/main/Solutions/Python/percentage_hike.ipynb\" target=\"_parent\"><img src=\"https://colab.research.google.com/assets/colab-badge.svg\" alt=\"Open In Colab\"/></a>"
      ]
    },
    {
      "cell_type": "code",
      "execution_count": 1,
      "metadata": {
        "colab": {
          "base_uri": "https://localhost:8080/"
        },
        "id": "Wq7l9pCIsrIs",
        "outputId": "f39cde4a-f058-47a8-ed18-a07bb0df312d"
      },
      "outputs": [
        {
          "output_type": "stream",
          "name": "stdout",
          "text": [
            "Collecting pyspark\n",
            "  Downloading pyspark-3.2.0.tar.gz (281.3 MB)\n",
            "\u001b[K     |████████████████████████████████| 281.3 MB 39 kB/s \n",
            "\u001b[?25hCollecting py4j==0.10.9.2\n",
            "  Downloading py4j-0.10.9.2-py2.py3-none-any.whl (198 kB)\n",
            "\u001b[K     |████████████████████████████████| 198 kB 38.2 MB/s \n",
            "\u001b[?25hBuilding wheels for collected packages: pyspark\n",
            "  Building wheel for pyspark (setup.py) ... \u001b[?25l\u001b[?25hdone\n",
            "  Created wheel for pyspark: filename=pyspark-3.2.0-py2.py3-none-any.whl size=281805912 sha256=164afa097f645359b275d9e5b50340ed52278d61528a26c475fbf164e0fcf122\n",
            "  Stored in directory: /root/.cache/pip/wheels/0b/de/d2/9be5d59d7331c6c2a7c1b6d1a4f463ce107332b1ecd4e80718\n",
            "Successfully built pyspark\n",
            "Installing collected packages: py4j, pyspark\n",
            "Successfully installed py4j-0.10.9.2 pyspark-3.2.0\n"
          ]
        }
      ],
      "source": [
        "!pip install pyspark"
      ]
    },
    {
      "cell_type": "code",
      "source": [
        "from pyspark.sql import SparkSession\n",
        "spark = SparkSession.builder\\\n",
        "        .master(\"local\")\\\n",
        "        .appName(\"percentagerise\")\\\n",
        "        .config('spark.ui.port', '4040')\\\n",
        "        .getOrCreate()"
      ],
      "metadata": {
        "id": "CgaGJuHUs6zY"
      },
      "execution_count": 23,
      "outputs": []
    },
    {
      "cell_type": "code",
      "source": [
        "columns = [\"emp_no\",\"salary\",\"from_date\"]\n",
        "data = [(\"10001\", 60117,\"2021-01-01\"), (\"10001\", 62102,\"2022-01-01\"), (\"10002\",66074,\"2021-01-01\"),(\"10002\",66596,\"2022-01-01\"), (\"10003\", 22222,\"2022-01-01\"), (\"10004\", 3000,\"2022-01-01\")]"
      ],
      "metadata": {
        "id": "CtSGv7tItDpL"
      },
      "execution_count": 76,
      "outputs": []
    },
    {
      "cell_type": "code",
      "source": [
        "rdd = spark.sparkContext.parallelize(data)"
      ],
      "metadata": {
        "id": "KpH0aPuRtv9I"
      },
      "execution_count": 77,
      "outputs": []
    },
    {
      "cell_type": "code",
      "source": [
        "df = spark.createDataFrame(rdd).toDF(*columns)"
      ],
      "metadata": {
        "id": "dMezS8UXt3ec"
      },
      "execution_count": 78,
      "outputs": []
    },
    {
      "cell_type": "code",
      "source": [
        "df.show()"
      ],
      "metadata": {
        "colab": {
          "base_uri": "https://localhost:8080/"
        },
        "id": "aBYntA_0uCq8",
        "outputId": "4a91c21b-c08f-4c48-8272-27ecd3e5e904"
      },
      "execution_count": 79,
      "outputs": [
        {
          "output_type": "stream",
          "name": "stdout",
          "text": [
            "+------+------+----------+\n",
            "|emp_no|salary| from_date|\n",
            "+------+------+----------+\n",
            "| 10001| 60117|2021-01-01|\n",
            "| 10001| 62102|2022-01-01|\n",
            "| 10002| 66074|2021-01-01|\n",
            "| 10002| 66596|2022-01-01|\n",
            "| 10003| 22222|2022-01-01|\n",
            "| 10004|  3000|2022-01-01|\n",
            "+------+------+----------+\n",
            "\n"
          ]
        }
      ]
    },
    {
      "cell_type": "code",
      "source": [
        "from pyspark.sql.window import Window\n",
        "from pyspark.sql.functions import lag,when, round"
      ],
      "metadata": {
        "id": "7xkLqKfBuFpF"
      },
      "execution_count": 80,
      "outputs": []
    },
    {
      "cell_type": "code",
      "source": [
        "window_spec = Window\\\n",
        ".partitionBy('emp_no')\\\n",
        ".orderBy('from_date')"
      ],
      "metadata": {
        "id": "2ZDTOK5fujxe"
      },
      "execution_count": 81,
      "outputs": []
    },
    {
      "cell_type": "code",
      "source": [
        "df = df.withColumn('lagby1',lag(df.salary).over(window_spec))"
      ],
      "metadata": {
        "id": "O605hFjXuzTE"
      },
      "execution_count": 82,
      "outputs": []
    },
    {
      "cell_type": "code",
      "source": [
        "df = df.withColumn('lagby1',when(df.lagby1.isNull(),df.salary)\\\n",
        "                   .otherwise(df.lagby1))"
      ],
      "metadata": {
        "id": "5zkA-CsLvrJz"
      },
      "execution_count": 83,
      "outputs": []
    },
    {
      "cell_type": "code",
      "source": [
        "df = df.withColumn('percentagersie',round((((df.salary-df.lagby1)/df.salary)*100),2))\\\n",
        "      .drop('lagby1')"
      ],
      "metadata": {
        "id": "nMce53GyyCNz"
      },
      "execution_count": 84,
      "outputs": []
    },
    {
      "cell_type": "code",
      "source": [
        "df.show()"
      ],
      "metadata": {
        "colab": {
          "base_uri": "https://localhost:8080/"
        },
        "id": "XqeZJDE7yO6T",
        "outputId": "86e87bcf-5baa-470c-b771-5fbd7b0592f0"
      },
      "execution_count": 85,
      "outputs": [
        {
          "output_type": "stream",
          "name": "stdout",
          "text": [
            "+------+------+----------+--------------+\n",
            "|emp_no|salary| from_date|percentagersie|\n",
            "+------+------+----------+--------------+\n",
            "| 10001| 60117|2021-01-01|           0.0|\n",
            "| 10001| 62102|2022-01-01|           3.2|\n",
            "| 10002| 66074|2021-01-01|           0.0|\n",
            "| 10002| 66596|2022-01-01|          0.78|\n",
            "| 10003| 22222|2022-01-01|           0.0|\n",
            "| 10004|  3000|2022-01-01|           0.0|\n",
            "+------+------+----------+--------------+\n",
            "\n"
          ]
        }
      ]
    }
  ]
}