{
  "nbformat": 4,
  "nbformat_minor": 0,
  "metadata": {
    "colab": {
      "name": "except_exceptall.ipynb",
      "provenance": [],
      "authorship_tag": "ABX9TyMtW+P8qrLygIDt8Trbd0Sf",
      "include_colab_link": true
    },
    "kernelspec": {
      "name": "python3",
      "display_name": "Python 3"
    },
    "language_info": {
      "name": "python"
    }
  },
  "cells": [
    {
      "cell_type": "markdown",
      "metadata": {
        "id": "view-in-github",
        "colab_type": "text"
      },
      "source": [
        "<a href=\"https://colab.research.google.com/github/pcbzmani/Learning-repository-for-scala-and-pyspark/blob/main/Solutions/Python/except_exceptall.ipynb\" target=\"_parent\"><img src=\"https://colab.research.google.com/assets/colab-badge.svg\" alt=\"Open In Colab\"/></a>"
      ]
    },
    {
      "cell_type": "code",
      "execution_count": 1,
      "metadata": {
        "colab": {
          "base_uri": "https://localhost:8080/"
        },
        "id": "aaljKEAkRAjD",
        "outputId": "03719518-5439-49cf-ad22-ad66a5f58bb8"
      },
      "outputs": [
        {
          "output_type": "stream",
          "name": "stdout",
          "text": [
            "Collecting pyspark\n",
            "  Downloading pyspark-3.2.1.tar.gz (281.4 MB)\n",
            "\u001b[K     |████████████████████████████████| 281.4 MB 43 kB/s \n",
            "\u001b[?25hCollecting py4j==0.10.9.3\n",
            "  Downloading py4j-0.10.9.3-py2.py3-none-any.whl (198 kB)\n",
            "\u001b[K     |████████████████████████████████| 198 kB 63.9 MB/s \n",
            "\u001b[?25hBuilding wheels for collected packages: pyspark\n",
            "  Building wheel for pyspark (setup.py) ... \u001b[?25l\u001b[?25hdone\n",
            "  Created wheel for pyspark: filename=pyspark-3.2.1-py2.py3-none-any.whl size=281853642 sha256=5f1bf4fd9a9ebf601d58dbd3b5f5d53f961319611a4fa5a4324831dd925b401a\n",
            "  Stored in directory: /root/.cache/pip/wheels/9f/f5/07/7cd8017084dce4e93e84e92efd1e1d5334db05f2e83bcef74f\n",
            "Successfully built pyspark\n",
            "Installing collected packages: py4j, pyspark\n",
            "Successfully installed py4j-0.10.9.3 pyspark-3.2.1\n"
          ]
        }
      ],
      "source": [
        "!pip install pyspa"
      ]
    },
    {
      "cell_type": "code",
      "source": [
        "from pyspark.sql import SparkSession\n",
        "spark = SparkSession.builder\\\n",
        "        .master('local')\\\n",
        "        .appName('except')\\\n",
        "        .config('spark.ui.port','4040')\\\n",
        "        .getOrCreate()"
      ],
      "metadata": {
        "id": "nhKHeRkaRGVJ"
      },
      "execution_count": 2,
      "outputs": []
    },
    {
      "cell_type": "code",
      "source": [
        "data_1 = [('P101','Mani','Med'),('P101','Mani','Dent'),('P101','Mani','Med'),('P101','Mani','Vision'),\\\n",
        "          ('P102','Raj','Med'),('P102','Raj','Dent'),('P102','Raj','Med'),\\\n",
        "          ('P103','Kamal','Med')]\n",
        "cols=['ID','Name','Plan']\n",
        "rdd = spark.sparkContext.parallelize(data_1)\n",
        "df = rdd.toDF(cols)\n",
        "df.show()"
      ],
      "metadata": {
        "colab": {
          "base_uri": "https://localhost:8080/"
        },
        "id": "_H1rcxAjR2S3",
        "outputId": "ac38c007-b761-4e16-9d9b-0fe852a5d4f5"
      },
      "execution_count": 8,
      "outputs": [
        {
          "output_type": "stream",
          "name": "stdout",
          "text": [
            "+----+-----+------+\n",
            "|  ID| Name|  Plan|\n",
            "+----+-----+------+\n",
            "|P101| Mani|   Med|\n",
            "|P101| Mani|  Dent|\n",
            "|P101| Mani|   Med|\n",
            "|P101| Mani|Vision|\n",
            "|P102|  Raj|   Med|\n",
            "|P102|  Raj|  Dent|\n",
            "|P102|  Raj|   Med|\n",
            "|P103|Kamal|   Med|\n",
            "+----+-----+------+\n",
            "\n"
          ]
        }
      ]
    },
    {
      "cell_type": "code",
      "source": [
        "df_filter = df.filter('Plan != \"Dent\"')\\\n",
        "              .distinct()"
      ],
      "metadata": {
        "id": "I3Ht2baKUc2K"
      },
      "execution_count": 11,
      "outputs": []
    },
    {
      "cell_type": "code",
      "source": [
        "df_filter.show()"
      ],
      "metadata": {
        "colab": {
          "base_uri": "https://localhost:8080/"
        },
        "id": "ZoWoyEUNV_NL",
        "outputId": "5018e547-ec41-439b-872e-8b84b09aec4c"
      },
      "execution_count": 12,
      "outputs": [
        {
          "output_type": "stream",
          "name": "stdout",
          "text": [
            "+----+-----+------+\n",
            "|  ID| Name|  Plan|\n",
            "+----+-----+------+\n",
            "|P101| Mani|Vision|\n",
            "|P102|  Raj|   Med|\n",
            "|P103|Kamal|   Med|\n",
            "|P101| Mani|   Med|\n",
            "+----+-----+------+\n",
            "\n"
          ]
        }
      ]
    },
    {
      "cell_type": "code",
      "source": [
        "df_sub = df.subtract(df_filter)\n",
        "df_expall = df.exceptAll(df_filter)"
      ],
      "metadata": {
        "id": "EXMvuhtWWZ_U"
      },
      "execution_count": 15,
      "outputs": []
    },
    {
      "cell_type": "code",
      "source": [
        "df_sub.show()"
      ],
      "metadata": {
        "colab": {
          "base_uri": "https://localhost:8080/"
        },
        "id": "jR5wNDJVWxnY",
        "outputId": "610673cf-993c-4215-dbd7-675e8d5f5804"
      },
      "execution_count": 16,
      "outputs": [
        {
          "output_type": "stream",
          "name": "stdout",
          "text": [
            "+----+----+----+\n",
            "|  ID|Name|Plan|\n",
            "+----+----+----+\n",
            "|P102| Raj|Dent|\n",
            "|P101|Mani|Dent|\n",
            "+----+----+----+\n",
            "\n"
          ]
        }
      ]
    },
    {
      "cell_type": "code",
      "source": [
        "df_expall.show()"
      ],
      "metadata": {
        "colab": {
          "base_uri": "https://localhost:8080/"
        },
        "id": "mjKmVIFtWzQL",
        "outputId": "8b0d1c57-8925-40ab-9c81-ed502e0840b8"
      },
      "execution_count": 17,
      "outputs": [
        {
          "output_type": "stream",
          "name": "stdout",
          "text": [
            "+----+----+----+\n",
            "|  ID|Name|Plan|\n",
            "+----+----+----+\n",
            "|P102| Raj| Med|\n",
            "|P102| Raj|Dent|\n",
            "|P101|Mani|Dent|\n",
            "|P101|Mani| Med|\n",
            "+----+----+----+\n",
            "\n"
          ]
        }
      ]
    },
    {
      "cell_type": "code",
      "source": [
        "spark.stop()"
      ],
      "metadata": {
        "id": "Xz7E14gYW5KW"
      },
      "execution_count": 18,
      "outputs": []
    },
    {
      "cell_type": "code",
      "source": [
        ""
      ],
      "metadata": {
        "id": "ScIYmf5ucjhH"
      },
      "execution_count": null,
      "outputs": []
    }
  ]
}