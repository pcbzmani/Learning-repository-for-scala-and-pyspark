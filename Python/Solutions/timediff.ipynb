{
  "nbformat": 4,
  "nbformat_minor": 0,
  "metadata": {
    "colab": {
      "name": "timediff.ipynb",
      "provenance": [],
      "authorship_tag": "ABX9TyOXBgayeC1DiFAzvxfcfzV8",
      "include_colab_link": true
    },
    "kernelspec": {
      "name": "python3",
      "display_name": "Python 3"
    },
    "language_info": {
      "name": "python"
    }
  },
  "cells": [
    {
      "cell_type": "markdown",
      "metadata": {
        "id": "view-in-github",
        "colab_type": "text"
      },
      "source": [
        "<a href=\"https://colab.research.google.com/github/pcbzmani/Learning-repository-for-scala-and-pyspark/blob/main/Python/Solutions/timediff.ipynb\" target=\"_parent\"><img src=\"https://colab.research.google.com/assets/colab-badge.svg\" alt=\"Open In Colab\"/></a>"
      ]
    },
    {
      "cell_type": "code",
      "execution_count": null,
      "metadata": {
        "colab": {
          "base_uri": "https://localhost:8080/"
        },
        "id": "RRr0wYuZJHV1",
        "outputId": "62f9c237-2a46-43a3-8133-dfd339a6911c"
      },
      "outputs": [
        {
          "output_type": "stream",
          "name": "stdout",
          "text": [
            "Collecting pyspark\n",
            "  Downloading pyspark-3.2.0.tar.gz (281.3 MB)\n",
            "\u001b[K     |████████████████████████████████| 281.3 MB 36 kB/s \n",
            "\u001b[?25hCollecting py4j==0.10.9.2\n",
            "  Downloading py4j-0.10.9.2-py2.py3-none-any.whl (198 kB)\n",
            "\u001b[K     |████████████████████████████████| 198 kB 64.1 MB/s \n",
            "\u001b[?25hBuilding wheels for collected packages: pyspark\n",
            "  Building wheel for pyspark (setup.py) ... \u001b[?25l\u001b[?25hdone\n",
            "  Created wheel for pyspark: filename=pyspark-3.2.0-py2.py3-none-any.whl size=281805912 sha256=fb435566580f0fbd81d2165036545ff6e221d65b1a6a19e01a4c4bdb14d2fa3b\n",
            "  Stored in directory: /root/.cache/pip/wheels/0b/de/d2/9be5d59d7331c6c2a7c1b6d1a4f463ce107332b1ecd4e80718\n",
            "Successfully built pyspark\n",
            "Installing collected packages: py4j, pyspark\n",
            "Successfully installed py4j-0.10.9.2 pyspark-3.2.0\n"
          ]
        }
      ],
      "source": [
        "!pip install pyspark"
      ]
    },
    {
      "cell_type": "code",
      "source": [
        "from pyspark.sql import SparkSession\n",
        "spark = SparkSession.builder\\\n",
        "        .master(\"local\")\\\n",
        "        .appName(\"datediff\")\\\n",
        "        .config('spark.ui.port', '4040')\\\n",
        "        .getOrCreate()"
      ],
      "metadata": {
        "id": "_6t8zlcOJNK6"
      },
      "execution_count": null,
      "outputs": []
    },
    {
      "cell_type": "code",
      "source": [
        "df = spark.read\\\n",
        "        .format('csv')\\\n",
        "        .option('sep',',')\\\n",
        "        .option('inferSchema',True)\\\n",
        "        .option('header',True)\\\n",
        "        .load('/content/ts_format.csv')"
      ],
      "metadata": {
        "id": "z57YrAcDKvw1"
      },
      "execution_count": null,
      "outputs": []
    },
    {
      "cell_type": "code",
      "source": [
        "from pyspark.sql.window import Window\n",
        "from pyspark.sql.functions import lag,round,when,sum,row_number,lit,concat,to_date"
      ],
      "metadata": {
        "id": "gZopUjgNK6SC"
      },
      "execution_count": null,
      "outputs": []
    },
    {
      "cell_type": "code",
      "source": [
        "window_spec = Window\\\n",
        ".partitionBy('UserID')\\\n",
        ".orderBy('Timestamp')"
      ],
      "metadata": {
        "id": "YpqxxhyGLLEd"
      },
      "execution_count": null,
      "outputs": []
    },
    {
      "cell_type": "code",
      "source": [
        "df = df.withColumn('lagby1',lag(df.Timestamp).over(window_spec))"
      ],
      "metadata": {
        "id": "xKFsuovyLYB8"
      },
      "execution_count": null,
      "outputs": []
    },
    {
      "cell_type": "code",
      "source": [
        "df = df.withColumn('mindiff',round((df.Timestamp.cast('long')-df.lagby1.cast('long'))/60))"
      ],
      "metadata": {
        "id": "XD_8CLFCLlGn"
      },
      "execution_count": null,
      "outputs": []
    },
    {
      "cell_type": "code",
      "source": [
        "df = df.withColumn('new_session',when(df.mindiff < 120,0)\\\n",
        "                   .otherwise(1))"
      ],
      "metadata": {
        "id": "5TDagKk-MV6Z"
      },
      "execution_count": null,
      "outputs": []
    },
    {
      "cell_type": "code",
      "source": [
        "window_spec1 = Window\\\n",
        ".partitionBy('UserID')\\\n",
        ".orderBy('Timestamp')\\\n",
        ".rowsBetween(Window.unboundedPreceding,Window.currentRow)"
      ],
      "metadata": {
        "id": "_8swIjHqRiRN"
      },
      "execution_count": null,
      "outputs": []
    },
    {
      "cell_type": "code",
      "source": [
        "df = df.withColumn('sumsess',sum(df.new_session).over(window_spec1))"
      ],
      "metadata": {
        "id": "jvnC99jvS2fP"
      },
      "execution_count": null,
      "outputs": []
    },
    {
      "cell_type": "code",
      "source": [
        "df = df.withColumn('const',lit('_s'))"
      ],
      "metadata": {
        "id": "_F0YCclrTSaY"
      },
      "execution_count": null,
      "outputs": []
    },
    {
      "cell_type": "code",
      "source": [
        "df = df.withColumn('usersession',concat(df.UserID,df.const,df.sumsess))"
      ],
      "metadata": {
        "id": "bOI_-8jVT9vJ"
      },
      "execution_count": null,
      "outputs": []
    },
    {
      "cell_type": "code",
      "source": [
        "cols_to_drop=['const','sumsess','lagby1','mindiff','new_session']\n",
        "df = df.drop(*cols_to_drop)"
      ],
      "metadata": {
        "id": "B6nHNYeM2s5w"
      },
      "execution_count": null,
      "outputs": []
    },
    {
      "cell_type": "code",
      "source": [
        "df.show()"
      ],
      "metadata": {
        "id": "4928nNiTAZai",
        "outputId": "92226d26-839b-4721-a7d0-26317203a0c3",
        "colab": {
          "base_uri": "https://localhost:8080/"
        }
      },
      "execution_count": null,
      "outputs": [
        {
          "output_type": "stream",
          "name": "stdout",
          "text": [
            "+-------------------+------+-----------+\n",
            "|          Timestamp|UserID|usersession|\n",
            "+-------------------+------+-----------+\n",
            "|2019-07-01 12:01:19|    u1|      u1_s1|\n",
            "|2019-07-01 14:01:19|    u1|      u1_s2|\n",
            "|2019-07-01 15:01:19|    u1|      u1_s2|\n",
            "|2019-07-02 12:01:19|    u1|      u1_s3|\n",
            "|2019-07-03 12:01:19|    u1|      u1_s4|\n",
            "|2019-07-03 14:01:19|    u1|      u1_s5|\n",
            "|2019-07-01 12:01:19|    u2|      u2_s1|\n",
            "|2019-07-02 12:01:19|    u2|      u2_s2|\n",
            "|2019-07-01 14:01:19|    u3|      u3_s1|\n",
            "|2019-07-03 12:01:19|    u3|      u3_s2|\n",
            "|2019-07-01 15:01:19|    u4|      u4_s1|\n",
            "|2019-07-03 14:01:19|    u4|      u4_s2|\n",
            "+-------------------+------+-----------+\n",
            "\n"
          ]
        }
      ]
    },
    {
      "cell_type": "code",
      "source": [
        "daily_df = df\n",
        "daily_df = daily_df.withColumn('date',to_date(daily_df.Timestamp,'yyyy-MM-dd'))"
      ],
      "metadata": {
        "id": "qFfNMYdd3E-6"
      },
      "execution_count": null,
      "outputs": []
    },
    {
      "cell_type": "code",
      "source": [
        "window_spec_dailt = Window\\\n",
        ".partitionBy('date')\\\n",
        ".orderBy('Timestamp')"
      ],
      "metadata": {
        "id": "cBZbqdsS5P7I"
      },
      "execution_count": null,
      "outputs": []
    },
    {
      "cell_type": "code",
      "source": [
        "daily_df = daily_df.withColumn('lagby1',lag(daily_df.Timestamp).over(window_spec_dailt))"
      ],
      "metadata": {
        "id": "TXYY5MpC5XJI"
      },
      "execution_count": null,
      "outputs": []
    },
    {
      "cell_type": "code",
      "source": [
        "daily_df = daily_df.withColumn('mindiff',round(((daily_df.Timestamp.cast('long') - daily_df.lagby1.cast('long'))/60),2))"
      ],
      "metadata": {
        "id": "m9guxzPR5kjA"
      },
      "execution_count": null,
      "outputs": []
    },
    {
      "cell_type": "code",
      "source": [
        "daily_df = daily_df.withColumn('newsession',when(daily_df.mindiff < 120,0)\\\n",
        "                               .otherwise(1))"
      ],
      "metadata": {
        "id": "SxTDEx4F6HwJ"
      },
      "execution_count": null,
      "outputs": []
    },
    {
      "cell_type": "code",
      "source": [
        "daily_df = daily_df.withColumn('dailysession',sum(daily_df.newsession).over(window_spec_dailt))"
      ],
      "metadata": {
        "id": "1joRqynS7CHi"
      },
      "execution_count": null,
      "outputs": []
    },
    {
      "cell_type": "code",
      "source": [
        "daily_df.show()"
      ],
      "metadata": {
        "colab": {
          "base_uri": "https://localhost:8080/"
        },
        "id": "Y2OdZC1Y7Ngz",
        "outputId": "533750e9-86bb-4fb7-ef09-debbbc77f0d5"
      },
      "execution_count": null,
      "outputs": [
        {
          "output_type": "stream",
          "name": "stdout",
          "text": [
            "+-------------------+------+-----------+----------+-------------------+-------+----------+------------+\n",
            "|          Timestamp|UserID|usersession|      date|             lagby1|mindiff|newsession|dailysession|\n",
            "+-------------------+------+-----------+----------+-------------------+-------+----------+------------+\n",
            "|2019-07-01 12:01:19|    u1|      u1_s1|2019-07-01|               null|   null|         1|           1|\n",
            "|2019-07-01 12:01:19|    u2|      u2_s1|2019-07-01|2019-07-01 12:01:19|    0.0|         0|           1|\n",
            "|2019-07-01 14:01:19|    u1|      u1_s2|2019-07-01|2019-07-01 12:01:19|  120.0|         1|           2|\n",
            "|2019-07-01 14:01:19|    u3|      u3_s1|2019-07-01|2019-07-01 14:01:19|    0.0|         0|           2|\n",
            "|2019-07-01 15:01:19|    u1|      u1_s2|2019-07-01|2019-07-01 14:01:19|   60.0|         0|           2|\n",
            "|2019-07-01 15:01:19|    u4|      u4_s1|2019-07-01|2019-07-01 15:01:19|    0.0|         0|           2|\n",
            "|2019-07-02 12:01:19|    u1|      u1_s3|2019-07-02|               null|   null|         1|           1|\n",
            "|2019-07-02 12:01:19|    u2|      u2_s2|2019-07-02|2019-07-02 12:01:19|    0.0|         0|           1|\n",
            "|2019-07-03 12:01:19|    u1|      u1_s4|2019-07-03|               null|   null|         1|           1|\n",
            "|2019-07-03 12:01:19|    u3|      u3_s2|2019-07-03|2019-07-03 12:01:19|    0.0|         0|           1|\n",
            "|2019-07-03 14:01:19|    u1|      u1_s5|2019-07-03|2019-07-03 12:01:19|  120.0|         1|           2|\n",
            "|2019-07-03 14:01:19|    u4|      u4_s2|2019-07-03|2019-07-03 14:01:19|    0.0|         0|           2|\n",
            "+-------------------+------+-----------+----------+-------------------+-------+----------+------------+\n",
            "\n"
          ]
        }
      ]
    },
    {
      "cell_type": "code",
      "source": [
        "daily_df.createOrReplaceTempView('daily_df')"
      ],
      "metadata": {
        "id": "Fln5mAZ68h8k"
      },
      "execution_count": null,
      "outputs": []
    },
    {
      "cell_type": "code",
      "source": [
        "daily_session_count = spark.sql(\"\"\"select date,dailysession,count(*) from daily_df\n",
        "                                    group by date,dailysession\"\"\")"
      ],
      "metadata": {
        "id": "ZN2MdgBr_VnJ"
      },
      "execution_count": null,
      "outputs": []
    },
    {
      "cell_type": "code",
      "source": [
        "daily_session_count = daily_session_count.select('date','dailysession')"
      ],
      "metadata": {
        "id": "BduCxSqQ_o1_"
      },
      "execution_count": null,
      "outputs": []
    },
    {
      "cell_type": "code",
      "source": [
        "daily_session_count.show()"
      ],
      "metadata": {
        "colab": {
          "base_uri": "https://localhost:8080/"
        },
        "id": "N8fjWYeN_v5N",
        "outputId": "3100e4c8-095b-418f-a1d7-771c42368e44"
      },
      "execution_count": null,
      "outputs": [
        {
          "output_type": "stream",
          "name": "stdout",
          "text": [
            "+----------+------------+\n",
            "|      date|dailysession|\n",
            "+----------+------------+\n",
            "|2019-07-01|           1|\n",
            "|2019-07-01|           2|\n",
            "|2019-07-02|           1|\n",
            "|2019-07-03|           1|\n",
            "|2019-07-03|           2|\n",
            "+----------+------------+\n",
            "\n"
          ]
        }
      ]
    },
    {
      "cell_type": "code",
      "source": [
        "daily_session_total_count = spark.sql(\"\"\"select date,max(dailysession) from daily_df\n",
        "                                    group by date\"\"\")"
      ],
      "metadata": {
        "id": "sl-QRe8W_xnp"
      },
      "execution_count": null,
      "outputs": []
    },
    {
      "cell_type": "code",
      "source": [
        "daily_session_total_count.show()"
      ],
      "metadata": {
        "colab": {
          "base_uri": "https://localhost:8080/"
        },
        "id": "WwLzD3tM_-_n",
        "outputId": "e70c69ca-5876-44e6-e1fa-f0f91732c1ab"
      },
      "execution_count": null,
      "outputs": [
        {
          "output_type": "stream",
          "name": "stdout",
          "text": [
            "+----------+-----------------+\n",
            "|      date|max(dailysession)|\n",
            "+----------+-----------------+\n",
            "|2019-07-01|                2|\n",
            "|2019-07-02|                1|\n",
            "|2019-07-03|                2|\n",
            "+----------+-----------------+\n",
            "\n"
          ]
        }
      ]
    },
    {
      "cell_type": "code",
      "source": [
        ""
      ],
      "metadata": {
        "id": "OX3dp7rPAJwN"
      },
      "execution_count": null,
      "outputs": []
    }
  ]
}